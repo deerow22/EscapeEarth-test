{
  "nbformat": 4,
  "nbformat_minor": 0,
  "metadata": {
    "colab": {
      "name": "How to access our shared data folder.ipynb",
      "provenance": [],
      "include_colab_link": true
    },
    "kernelspec": {
      "name": "python3",
      "display_name": "Python 3"
    }
  },
  "cells": [
    {
      "cell_type": "markdown",
      "metadata": {
        "id": "view-in-github",
        "colab_type": "text"
      },
      "source": [
        "<a href=\"https://colab.research.google.com/github/pearlashag/EscapeEarth-test/blob/main/Interns/Intern_2/How_to_access_our_shared_data_folder.ipynb\" target=\"_parent\"><img src=\"https://colab.research.google.com/assets/colab-badge.svg\" alt=\"Open In Colab\"/></a>"
      ]
    },
    {
      "cell_type": "markdown",
      "metadata": {
        "id": "phz4-eH2-b63"
      },
      "source": [
        "# __How to mount our google drive__ \n",
        "#### so we can open the data in our shared EscapeEarthData folder."
      ]
    },
    {
      "cell_type": "code",
      "metadata": {
        "id": "P_EhZKHUqTbj",
        "outputId": "1d145835-4d2f-449a-ad1e-f9e2c69cc13e",
        "colab": {
          "base_uri": "https://localhost:8080/",
          "height": 34
        }
      },
      "source": [
        "print(\"haha i made a change\")"
      ],
      "execution_count": 3,
      "outputs": [
        {
          "output_type": "stream",
          "text": [
            "haha i made a change\n"
          ],
          "name": "stdout"
        }
      ]
    },
    {
      "cell_type": "code",
      "metadata": {
        "id": "PlXgNEVE-X_i",
        "outputId": "f8e5f446-68bd-409f-d53c-775d6dae3dc6",
        "colab": {
          "base_uri": "https://localhost:8080/",
          "height": 652
        }
      },
      "source": [
        "# this cell mounts your drive but you also must follow these\n",
        "# STEPS:\n",
        "# 1) run this cell and a url will display that you should click on\n",
        "# 2) select your google account if applicable\n",
        "# 3) click 'Allow' when asked by 'Google Drive File Stream wants to access your Google Account'\n",
        "# 4) click on the copy icon next to the code displayed\n",
        "# 5) paste that code into the below cell prompt 'Enter your authorization code:'\n",
        "# 6) hit the Enter key and wait\n",
        "# 7) successful mounting is indicated by the statement 'Mounted at /content/gdrive'\n",
        "\n",
        "from google.colab import drive\n",
        "\n",
        "drive.mount('/content/gdrive')"
      ],
      "execution_count": 2,
      "outputs": [
        {
          "output_type": "error",
          "ename": "KeyboardInterrupt",
          "evalue": "ignored",
          "traceback": [
            "\u001b[0;31m---------------------------------------------------------------------------\u001b[0m",
            "\u001b[0;31mKeyboardInterrupt\u001b[0m                         Traceback (most recent call last)",
            "\u001b[0;32m/usr/local/lib/python3.6/dist-packages/ipykernel/kernelbase.py\u001b[0m in \u001b[0;36m_input_request\u001b[0;34m(self, prompt, ident, parent, password)\u001b[0m\n\u001b[1;32m    728\u001b[0m             \u001b[0;32mtry\u001b[0m\u001b[0;34m:\u001b[0m\u001b[0;34m\u001b[0m\u001b[0;34m\u001b[0m\u001b[0m\n\u001b[0;32m--> 729\u001b[0;31m                 \u001b[0mident\u001b[0m\u001b[0;34m,\u001b[0m \u001b[0mreply\u001b[0m \u001b[0;34m=\u001b[0m \u001b[0mself\u001b[0m\u001b[0;34m.\u001b[0m\u001b[0msession\u001b[0m\u001b[0;34m.\u001b[0m\u001b[0mrecv\u001b[0m\u001b[0;34m(\u001b[0m\u001b[0mself\u001b[0m\u001b[0;34m.\u001b[0m\u001b[0mstdin_socket\u001b[0m\u001b[0;34m,\u001b[0m \u001b[0;36m0\u001b[0m\u001b[0;34m)\u001b[0m\u001b[0;34m\u001b[0m\u001b[0;34m\u001b[0m\u001b[0m\n\u001b[0m\u001b[1;32m    730\u001b[0m             \u001b[0;32mexcept\u001b[0m \u001b[0mException\u001b[0m\u001b[0;34m:\u001b[0m\u001b[0;34m\u001b[0m\u001b[0;34m\u001b[0m\u001b[0m\n",
            "\u001b[0;32m/usr/local/lib/python3.6/dist-packages/jupyter_client/session.py\u001b[0m in \u001b[0;36mrecv\u001b[0;34m(self, socket, mode, content, copy)\u001b[0m\n\u001b[1;32m    802\u001b[0m         \u001b[0;32mtry\u001b[0m\u001b[0;34m:\u001b[0m\u001b[0;34m\u001b[0m\u001b[0;34m\u001b[0m\u001b[0m\n\u001b[0;32m--> 803\u001b[0;31m             \u001b[0mmsg_list\u001b[0m \u001b[0;34m=\u001b[0m \u001b[0msocket\u001b[0m\u001b[0;34m.\u001b[0m\u001b[0mrecv_multipart\u001b[0m\u001b[0;34m(\u001b[0m\u001b[0mmode\u001b[0m\u001b[0;34m,\u001b[0m \u001b[0mcopy\u001b[0m\u001b[0;34m=\u001b[0m\u001b[0mcopy\u001b[0m\u001b[0;34m)\u001b[0m\u001b[0;34m\u001b[0m\u001b[0;34m\u001b[0m\u001b[0m\n\u001b[0m\u001b[1;32m    804\u001b[0m         \u001b[0;32mexcept\u001b[0m \u001b[0mzmq\u001b[0m\u001b[0;34m.\u001b[0m\u001b[0mZMQError\u001b[0m \u001b[0;32mas\u001b[0m \u001b[0me\u001b[0m\u001b[0;34m:\u001b[0m\u001b[0;34m\u001b[0m\u001b[0;34m\u001b[0m\u001b[0m\n",
            "\u001b[0;32m/usr/local/lib/python3.6/dist-packages/zmq/sugar/socket.py\u001b[0m in \u001b[0;36mrecv_multipart\u001b[0;34m(self, flags, copy, track)\u001b[0m\n\u001b[1;32m    490\u001b[0m         \"\"\"\n\u001b[0;32m--> 491\u001b[0;31m         \u001b[0mparts\u001b[0m \u001b[0;34m=\u001b[0m \u001b[0;34m[\u001b[0m\u001b[0mself\u001b[0m\u001b[0;34m.\u001b[0m\u001b[0mrecv\u001b[0m\u001b[0;34m(\u001b[0m\u001b[0mflags\u001b[0m\u001b[0;34m,\u001b[0m \u001b[0mcopy\u001b[0m\u001b[0;34m=\u001b[0m\u001b[0mcopy\u001b[0m\u001b[0;34m,\u001b[0m \u001b[0mtrack\u001b[0m\u001b[0;34m=\u001b[0m\u001b[0mtrack\u001b[0m\u001b[0;34m)\u001b[0m\u001b[0;34m]\u001b[0m\u001b[0;34m\u001b[0m\u001b[0;34m\u001b[0m\u001b[0m\n\u001b[0m\u001b[1;32m    492\u001b[0m         \u001b[0;31m# have first part already, only loop while more to receive\u001b[0m\u001b[0;34m\u001b[0m\u001b[0;34m\u001b[0m\u001b[0;34m\u001b[0m\u001b[0m\n",
            "\u001b[0;32mzmq/backend/cython/socket.pyx\u001b[0m in \u001b[0;36mzmq.backend.cython.socket.Socket.recv\u001b[0;34m()\u001b[0m\n",
            "\u001b[0;32mzmq/backend/cython/socket.pyx\u001b[0m in \u001b[0;36mzmq.backend.cython.socket.Socket.recv\u001b[0;34m()\u001b[0m\n",
            "\u001b[0;32mzmq/backend/cython/socket.pyx\u001b[0m in \u001b[0;36mzmq.backend.cython.socket._recv_copy\u001b[0;34m()\u001b[0m\n",
            "\u001b[0;32m/usr/local/lib/python3.6/dist-packages/zmq/backend/cython/checkrc.pxd\u001b[0m in \u001b[0;36mzmq.backend.cython.checkrc._check_rc\u001b[0;34m()\u001b[0m\n",
            "\u001b[0;31mKeyboardInterrupt\u001b[0m: ",
            "\nDuring handling of the above exception, another exception occurred:\n",
            "\u001b[0;31mKeyboardInterrupt\u001b[0m                         Traceback (most recent call last)",
            "\u001b[0;32m<ipython-input-2-b82fb698f3bc>\u001b[0m in \u001b[0;36m<module>\u001b[0;34m()\u001b[0m\n\u001b[1;32m     11\u001b[0m \u001b[0;32mfrom\u001b[0m \u001b[0mgoogle\u001b[0m\u001b[0;34m.\u001b[0m\u001b[0mcolab\u001b[0m \u001b[0;32mimport\u001b[0m \u001b[0mdrive\u001b[0m\u001b[0;34m\u001b[0m\u001b[0;34m\u001b[0m\u001b[0m\n\u001b[1;32m     12\u001b[0m \u001b[0;34m\u001b[0m\u001b[0m\n\u001b[0;32m---> 13\u001b[0;31m \u001b[0mdrive\u001b[0m\u001b[0;34m.\u001b[0m\u001b[0mmount\u001b[0m\u001b[0;34m(\u001b[0m\u001b[0;34m'/content/gdrive'\u001b[0m\u001b[0;34m)\u001b[0m\u001b[0;34m\u001b[0m\u001b[0;34m\u001b[0m\u001b[0m\n\u001b[0m",
            "\u001b[0;32m/usr/local/lib/python3.6/dist-packages/google/colab/drive.py\u001b[0m in \u001b[0;36mmount\u001b[0;34m(mountpoint, force_remount, timeout_ms, use_metadata_server)\u001b[0m\n\u001b[1;32m    249\u001b[0m       \u001b[0;32mwith\u001b[0m \u001b[0m_output\u001b[0m\u001b[0;34m.\u001b[0m\u001b[0muse_tags\u001b[0m\u001b[0;34m(\u001b[0m\u001b[0;34m'dfs-auth-dance'\u001b[0m\u001b[0;34m)\u001b[0m\u001b[0;34m:\u001b[0m\u001b[0;34m\u001b[0m\u001b[0;34m\u001b[0m\u001b[0m\n\u001b[1;32m    250\u001b[0m         \u001b[0;32mwith\u001b[0m \u001b[0mopen\u001b[0m\u001b[0;34m(\u001b[0m\u001b[0mfifo\u001b[0m\u001b[0;34m,\u001b[0m \u001b[0;34m'w'\u001b[0m\u001b[0;34m)\u001b[0m \u001b[0;32mas\u001b[0m \u001b[0mfifo_file\u001b[0m\u001b[0;34m:\u001b[0m\u001b[0;34m\u001b[0m\u001b[0;34m\u001b[0m\u001b[0m\n\u001b[0;32m--> 251\u001b[0;31m           \u001b[0mfifo_file\u001b[0m\u001b[0;34m.\u001b[0m\u001b[0mwrite\u001b[0m\u001b[0;34m(\u001b[0m\u001b[0mget_code\u001b[0m\u001b[0;34m(\u001b[0m\u001b[0mauth_prompt\u001b[0m\u001b[0;34m)\u001b[0m \u001b[0;34m+\u001b[0m \u001b[0;34m'\\n'\u001b[0m\u001b[0;34m)\u001b[0m\u001b[0;34m\u001b[0m\u001b[0;34m\u001b[0m\u001b[0m\n\u001b[0m\u001b[1;32m    252\u001b[0m       \u001b[0mwrote_to_fifo\u001b[0m \u001b[0;34m=\u001b[0m \u001b[0;32mTrue\u001b[0m\u001b[0;34m\u001b[0m\u001b[0;34m\u001b[0m\u001b[0m\n\u001b[1;32m    253\u001b[0m     \u001b[0;32melif\u001b[0m \u001b[0mcase\u001b[0m \u001b[0;34m==\u001b[0m \u001b[0;36m5\u001b[0m\u001b[0;34m:\u001b[0m\u001b[0;34m\u001b[0m\u001b[0;34m\u001b[0m\u001b[0m\n",
            "\u001b[0;32m/usr/local/lib/python3.6/dist-packages/ipykernel/kernelbase.py\u001b[0m in \u001b[0;36mraw_input\u001b[0;34m(self, prompt)\u001b[0m\n\u001b[1;32m    702\u001b[0m             \u001b[0mself\u001b[0m\u001b[0;34m.\u001b[0m\u001b[0m_parent_ident\u001b[0m\u001b[0;34m,\u001b[0m\u001b[0;34m\u001b[0m\u001b[0;34m\u001b[0m\u001b[0m\n\u001b[1;32m    703\u001b[0m             \u001b[0mself\u001b[0m\u001b[0;34m.\u001b[0m\u001b[0m_parent_header\u001b[0m\u001b[0;34m,\u001b[0m\u001b[0;34m\u001b[0m\u001b[0;34m\u001b[0m\u001b[0m\n\u001b[0;32m--> 704\u001b[0;31m             \u001b[0mpassword\u001b[0m\u001b[0;34m=\u001b[0m\u001b[0;32mFalse\u001b[0m\u001b[0;34m,\u001b[0m\u001b[0;34m\u001b[0m\u001b[0;34m\u001b[0m\u001b[0m\n\u001b[0m\u001b[1;32m    705\u001b[0m         )\n\u001b[1;32m    706\u001b[0m \u001b[0;34m\u001b[0m\u001b[0m\n",
            "\u001b[0;32m/usr/local/lib/python3.6/dist-packages/ipykernel/kernelbase.py\u001b[0m in \u001b[0;36m_input_request\u001b[0;34m(self, prompt, ident, parent, password)\u001b[0m\n\u001b[1;32m    732\u001b[0m             \u001b[0;32mexcept\u001b[0m \u001b[0mKeyboardInterrupt\u001b[0m\u001b[0;34m:\u001b[0m\u001b[0;34m\u001b[0m\u001b[0;34m\u001b[0m\u001b[0m\n\u001b[1;32m    733\u001b[0m                 \u001b[0;31m# re-raise KeyboardInterrupt, to truncate traceback\u001b[0m\u001b[0;34m\u001b[0m\u001b[0;34m\u001b[0m\u001b[0;34m\u001b[0m\u001b[0m\n\u001b[0;32m--> 734\u001b[0;31m                 \u001b[0;32mraise\u001b[0m \u001b[0mKeyboardInterrupt\u001b[0m\u001b[0;34m\u001b[0m\u001b[0;34m\u001b[0m\u001b[0m\n\u001b[0m\u001b[1;32m    735\u001b[0m             \u001b[0;32melse\u001b[0m\u001b[0;34m:\u001b[0m\u001b[0;34m\u001b[0m\u001b[0;34m\u001b[0m\u001b[0m\n\u001b[1;32m    736\u001b[0m                 \u001b[0;32mbreak\u001b[0m\u001b[0;34m\u001b[0m\u001b[0;34m\u001b[0m\u001b[0m\n",
            "\u001b[0;31mKeyboardInterrupt\u001b[0m: "
          ]
        }
      ]
    },
    {
      "cell_type": "code",
      "metadata": {
        "id": "-qT0thtp-5HD",
        "outputId": "5c221ee7-14a9-4412-becf-5f37e7bcb151",
        "colab": {
          "base_uri": "https://localhost:8080/",
          "height": 316
        }
      },
      "source": [
        "# this cell lists what's in your google drive \n",
        "# you should see the shared 'EscapeEarthData' folder\n",
        "!ls /content/gdrive/My\\ Drive"
      ],
      "execution_count": null,
      "outputs": [
        {
          "output_type": "stream",
          "text": [
            "'Colab Notebooks'\n",
            " comp2-español3.gdoc\n",
            "'Consentimiento Informado.gdoc'\n",
            " DR_CV.pdf\n",
            "'EE Exit Ticket (Responses).gsheet'\n",
            " EE-notebooks-test\n",
            " EsacapeEarth-test\n",
            "'Escape Earth Exit Ticket.gform'\n",
            "'las fuentes.gdoc'\n",
            " LessonPlans2020.gdoc\n",
            "'Nac ideas for nactober - MINE.gdoc'\n",
            " Notability\n",
            "'Notability (1)'\n",
            "'Notability (2)'\n",
            "'Proyecto Final de Español3.gdoc'\n",
            "'Student Aide Request Form for Days Off.docx'\n",
            "'Welcome to the  Escape Earth Internship!.gslides'\n"
          ],
          "name": "stdout"
        }
      ]
    },
    {
      "cell_type": "markdown",
      "metadata": {
        "id": "cSE19OcBHrdx"
      },
      "source": [
        "#### _IF_ you get an error __\"ls: cannot access '/content/gdrive/My Drive': Transport endpoint is not connected\"__ you need to remount your drive. Copy/Paste the below code into a new cell to do so:\n",
        "\n",
        "\n",
        "\n",
        "```\n",
        "from google.colab import drive\n",
        "drive.mount('/content/gdrive', force_remount=True)\n",
        "```\n",
        "\n",
        "#### _Otherwise_, you may proceed but be aware of this issue as it can arise at any time."
      ]
    },
    {
      "cell_type": "code",
      "metadata": {
        "id": "Mgv89xvsCqti",
        "outputId": "f2bb2664-c76c-4b7c-fc46-ee6f1042e0d6",
        "colab": {
          "base_uri": "https://localhost:8080/",
          "height": 52
        }
      },
      "source": [
        "# we can also list the contents of our shared folder \n",
        "# (once i add more data this wont be a good thing to do tho)\n",
        "!ls /content/gdrive/My\\ Drive/EsacapeEarth-test"
      ],
      "execution_count": null,
      "outputs": [
        {
          "output_type": "stream",
          "text": [
            "1161345_lc.csv\t2161623_lc.csv\tbls_rps.npy\n",
            "1573836_lc.csv\tbls_powers.npy\tCC-test.ipynb\n"
          ],
          "name": "stdout"
        }
      ]
    },
    {
      "cell_type": "markdown",
      "metadata": {
        "id": "QuDVWaEhD70o"
      },
      "source": [
        "# __How to Open Data Files__ \n",
        "#### Before we can open these files we will need to import, _and/or_ install then import, packages & their dependencies "
      ]
    },
    {
      "cell_type": "code",
      "metadata": {
        "id": "X7gqPKfXEKtS",
        "outputId": "5a2d640c-90cb-4ca6-a1c8-77dee63fbdfb",
        "colab": {
          "base_uri": "https://localhost:8080/",
          "height": 688
        }
      },
      "source": [
        "# import dependencies\n",
        "import numpy as np\n",
        "import pandas as pd\n",
        "# example of an installation then import (we'll need this later)\n",
        "!pip install lightkurve\n",
        "import lightkurve as lk"
      ],
      "execution_count": null,
      "outputs": [
        {
          "output_type": "stream",
          "text": [
            "Requirement already satisfied: lightkurve in /usr/local/lib/python3.6/dist-packages (1.11.2)\n",
            "Requirement already satisfied: matplotlib>=1.5.3 in /usr/local/lib/python3.6/dist-packages (from lightkurve) (3.2.2)\n",
            "Requirement already satisfied: oktopus in /usr/local/lib/python3.6/dist-packages (from lightkurve) (0.1.2)\n",
            "Requirement already satisfied: scipy!=1.4.0,!=1.4.1,>=0.19.0 in /usr/local/lib/python3.6/dist-packages (from lightkurve) (1.5.2)\n",
            "Requirement already satisfied: uncertainties in /usr/local/lib/python3.6/dist-packages (from lightkurve) (3.1.4)\n",
            "Requirement already satisfied: tqdm>=4.25.0 in /usr/local/lib/python3.6/dist-packages (from lightkurve) (4.41.1)\n",
            "Requirement already satisfied: patsy>=0.5.1 in /usr/local/lib/python3.6/dist-packages (from lightkurve) (0.5.1)\n",
            "Requirement already satisfied: bs4 in /usr/local/lib/python3.6/dist-packages (from lightkurve) (0.0.1)\n",
            "Requirement already satisfied: numpy>=1.11 in /usr/local/lib/python3.6/dist-packages (from lightkurve) (1.18.5)\n",
            "Requirement already satisfied: astroquery>=0.3.9 in /usr/local/lib/python3.6/dist-packages (from lightkurve) (0.4.1)\n",
            "Requirement already satisfied: astropy>=1.3 in /usr/local/lib/python3.6/dist-packages (from lightkurve) (4.0.1.post1)\n",
            "Requirement already satisfied: fbpca>=1.0 in /usr/local/lib/python3.6/dist-packages (from lightkurve) (1.0)\n",
            "Requirement already satisfied: requests in /usr/local/lib/python3.6/dist-packages (from lightkurve) (2.23.0)\n",
            "Requirement already satisfied: pandas in /usr/local/lib/python3.6/dist-packages (from lightkurve) (1.1.2)\n",
            "Requirement already satisfied: python-dateutil>=2.1 in /usr/local/lib/python3.6/dist-packages (from matplotlib>=1.5.3->lightkurve) (2.8.1)\n",
            "Requirement already satisfied: cycler>=0.10 in /usr/local/lib/python3.6/dist-packages (from matplotlib>=1.5.3->lightkurve) (0.10.0)\n",
            "Requirement already satisfied: pyparsing!=2.0.4,!=2.1.2,!=2.1.6,>=2.0.1 in /usr/local/lib/python3.6/dist-packages (from matplotlib>=1.5.3->lightkurve) (2.4.7)\n",
            "Requirement already satisfied: kiwisolver>=1.0.1 in /usr/local/lib/python3.6/dist-packages (from matplotlib>=1.5.3->lightkurve) (1.2.0)\n",
            "Requirement already satisfied: autograd in /usr/local/lib/python3.6/dist-packages (from oktopus->lightkurve) (1.3)\n",
            "Requirement already satisfied: future in /usr/local/lib/python3.6/dist-packages (from uncertainties->lightkurve) (0.16.0)\n",
            "Requirement already satisfied: six in /usr/local/lib/python3.6/dist-packages (from patsy>=0.5.1->lightkurve) (1.15.0)\n",
            "Requirement already satisfied: beautifulsoup4 in /usr/local/lib/python3.6/dist-packages (from bs4->lightkurve) (4.6.3)\n",
            "Requirement already satisfied: keyring>=4.0 in /usr/local/lib/python3.6/dist-packages (from astroquery>=0.3.9->lightkurve) (21.4.0)\n",
            "Requirement already satisfied: html5lib>=0.999 in /usr/local/lib/python3.6/dist-packages (from astroquery>=0.3.9->lightkurve) (1.0.1)\n",
            "Requirement already satisfied: chardet<4,>=3.0.2 in /usr/local/lib/python3.6/dist-packages (from requests->lightkurve) (3.0.4)\n",
            "Requirement already satisfied: certifi>=2017.4.17 in /usr/local/lib/python3.6/dist-packages (from requests->lightkurve) (2020.6.20)\n",
            "Requirement already satisfied: urllib3!=1.25.0,!=1.25.1,<1.26,>=1.21.1 in /usr/local/lib/python3.6/dist-packages (from requests->lightkurve) (1.24.3)\n",
            "Requirement already satisfied: idna<3,>=2.5 in /usr/local/lib/python3.6/dist-packages (from requests->lightkurve) (2.10)\n",
            "Requirement already satisfied: pytz>=2017.2 in /usr/local/lib/python3.6/dist-packages (from pandas->lightkurve) (2018.9)\n",
            "Requirement already satisfied: importlib-metadata; python_version < \"3.8\" in /usr/local/lib/python3.6/dist-packages (from keyring>=4.0->astroquery>=0.3.9->lightkurve) (2.0.0)\n",
            "Requirement already satisfied: jeepney>=0.4.2; sys_platform == \"linux\" in /usr/local/lib/python3.6/dist-packages (from keyring>=4.0->astroquery>=0.3.9->lightkurve) (0.4.3)\n",
            "Requirement already satisfied: SecretStorage>=3; sys_platform == \"linux\" in /usr/local/lib/python3.6/dist-packages (from keyring>=4.0->astroquery>=0.3.9->lightkurve) (3.1.2)\n",
            "Requirement already satisfied: webencodings in /usr/local/lib/python3.6/dist-packages (from html5lib>=0.999->astroquery>=0.3.9->lightkurve) (0.5.1)\n",
            "Requirement already satisfied: zipp>=0.5 in /usr/local/lib/python3.6/dist-packages (from importlib-metadata; python_version < \"3.8\"->keyring>=4.0->astroquery>=0.3.9->lightkurve) (3.2.0)\n",
            "Requirement already satisfied: cryptography in /usr/local/lib/python3.6/dist-packages (from SecretStorage>=3; sys_platform == \"linux\"->keyring>=4.0->astroquery>=0.3.9->lightkurve) (3.1.1)\n",
            "Requirement already satisfied: cffi!=1.11.3,>=1.8 in /usr/local/lib/python3.6/dist-packages (from cryptography->SecretStorage>=3; sys_platform == \"linux\"->keyring>=4.0->astroquery>=0.3.9->lightkurve) (1.14.3)\n",
            "Requirement already satisfied: pycparser in /usr/local/lib/python3.6/dist-packages (from cffi!=1.11.3,>=1.8->cryptography->SecretStorage>=3; sys_platform == \"linux\"->keyring>=4.0->astroquery>=0.3.9->lightkurve) (2.20)\n"
          ],
          "name": "stdout"
        }
      ]
    },
    {
      "cell_type": "code",
      "metadata": {
        "id": "aremk1iACw4c",
        "outputId": "969974f3-af39-4627-9189-2dec56dc101b",
        "colab": {
          "base_uri": "https://localhost:8080/",
          "height": 301
        }
      },
      "source": [
        "# now we can open each data file, here are some examples:\n",
        "\n",
        "# for .csv files\n",
        "data_1 = pd.read_csv('/content/gdrive/My Drive/EsacapeEarth-test/2161623_lc.csv')\n",
        "# for .npy files\n",
        "data_2 = np.load('/content/gdrive/My Drive/EsacapeEarth-test/bls_powers.npy')\n",
        "# let's see the data\n",
        "print('Data-1 Example:',data_1)\n",
        "print('Data-2 Example:',data_2)"
      ],
      "execution_count": null,
      "outputs": [
        {
          "output_type": "stream",
          "text": [
            "Data-1 Example:      # bjd\\tphase\\traw_flux\\traw_err\\tcorr_flux\\tcorr_err\\tdtr_flux\\tdtr_err\n",
            "0     56107.16069599\\t0.03416000\\t0.593396\\t0.000242...                     \n",
            "1     56107.18113035\\t0.04310882\\t0.745326\\t0.000245...                     \n",
            "2     56107.20156461\\t0.05205760\\t0.871438\\t0.000247...                     \n",
            "3     56107.22199908\\t0.06100646\\t0.960180\\t0.000249...                     \n",
            "4     56107.24243344\\t0.06995528\\t0.994236\\t0.000252...                     \n",
            "...                                                 ...                     \n",
            "8631  56304.05439858\\t0.25982505\\t1.050795\\t0.000264...                     \n",
            "8632  56304.07483160\\t0.26877329\\t1.050991\\t0.000264...                     \n",
            "8633  56304.09526452\\t0.27772148\\t1.051052\\t0.000264...                     \n",
            "8634  56304.11569744\\t0.28666967\\t1.050454\\t0.000264...                     \n",
            "8635  56304.13613036\\t0.29561785\\t1.050061\\t0.000264...                     \n",
            "\n",
            "[8636 rows x 1 columns]\n",
            "Data-2 Example: [34615   294    12 ... 43420 32493  4189]\n"
          ],
          "name": "stdout"
        }
      ]
    },
    {
      "cell_type": "code",
      "metadata": {
        "id": "KgYenzjMEu1g",
        "outputId": "1ce2fc35-060b-4d49-f18d-1ebdf169cd62",
        "colab": {
          "base_uri": "https://localhost:8080/",
          "height": 422
        }
      },
      "source": [
        "# Data-1 Example's format isn't a typical dataframe so let's try this\n",
        "data_1"
      ],
      "execution_count": null,
      "outputs": [
        {
          "output_type": "execute_result",
          "data": {
            "text/html": [
              "<div>\n",
              "<style scoped>\n",
              "    .dataframe tbody tr th:only-of-type {\n",
              "        vertical-align: middle;\n",
              "    }\n",
              "\n",
              "    .dataframe tbody tr th {\n",
              "        vertical-align: top;\n",
              "    }\n",
              "\n",
              "    .dataframe thead th {\n",
              "        text-align: right;\n",
              "    }\n",
              "</style>\n",
              "<table border=\"1\" class=\"dataframe\">\n",
              "  <thead>\n",
              "    <tr style=\"text-align: right;\">\n",
              "      <th></th>\n",
              "      <th># bjd\\tphase\\traw_flux\\traw_err\\tcorr_flux\\tcorr_err\\tdtr_flux\\tdtr_err</th>\n",
              "    </tr>\n",
              "  </thead>\n",
              "  <tbody>\n",
              "    <tr>\n",
              "      <th>0</th>\n",
              "      <td>56107.16069599\\t0.03416000\\t0.593396\\t0.000242...</td>\n",
              "    </tr>\n",
              "    <tr>\n",
              "      <th>1</th>\n",
              "      <td>56107.18113035\\t0.04310882\\t0.745326\\t0.000245...</td>\n",
              "    </tr>\n",
              "    <tr>\n",
              "      <th>2</th>\n",
              "      <td>56107.20156461\\t0.05205760\\t0.871438\\t0.000247...</td>\n",
              "    </tr>\n",
              "    <tr>\n",
              "      <th>3</th>\n",
              "      <td>56107.22199908\\t0.06100646\\t0.960180\\t0.000249...</td>\n",
              "    </tr>\n",
              "    <tr>\n",
              "      <th>4</th>\n",
              "      <td>56107.24243344\\t0.06995528\\t0.994236\\t0.000252...</td>\n",
              "    </tr>\n",
              "    <tr>\n",
              "      <th>...</th>\n",
              "      <td>...</td>\n",
              "    </tr>\n",
              "    <tr>\n",
              "      <th>8631</th>\n",
              "      <td>56304.05439858\\t0.25982505\\t1.050795\\t0.000264...</td>\n",
              "    </tr>\n",
              "    <tr>\n",
              "      <th>8632</th>\n",
              "      <td>56304.07483160\\t0.26877329\\t1.050991\\t0.000264...</td>\n",
              "    </tr>\n",
              "    <tr>\n",
              "      <th>8633</th>\n",
              "      <td>56304.09526452\\t0.27772148\\t1.051052\\t0.000264...</td>\n",
              "    </tr>\n",
              "    <tr>\n",
              "      <th>8634</th>\n",
              "      <td>56304.11569744\\t0.28666967\\t1.050454\\t0.000264...</td>\n",
              "    </tr>\n",
              "    <tr>\n",
              "      <th>8635</th>\n",
              "      <td>56304.13613036\\t0.29561785\\t1.050061\\t0.000264...</td>\n",
              "    </tr>\n",
              "  </tbody>\n",
              "</table>\n",
              "<p>8636 rows × 1 columns</p>\n",
              "</div>"
            ],
            "text/plain": [
              "     # bjd\\tphase\\traw_flux\\traw_err\\tcorr_flux\\tcorr_err\\tdtr_flux\\tdtr_err\n",
              "0     56107.16069599\\t0.03416000\\t0.593396\\t0.000242...                     \n",
              "1     56107.18113035\\t0.04310882\\t0.745326\\t0.000245...                     \n",
              "2     56107.20156461\\t0.05205760\\t0.871438\\t0.000247...                     \n",
              "3     56107.22199908\\t0.06100646\\t0.960180\\t0.000249...                     \n",
              "4     56107.24243344\\t0.06995528\\t0.994236\\t0.000252...                     \n",
              "...                                                 ...                     \n",
              "8631  56304.05439858\\t0.25982505\\t1.050795\\t0.000264...                     \n",
              "8632  56304.07483160\\t0.26877329\\t1.050991\\t0.000264...                     \n",
              "8633  56304.09526452\\t0.27772148\\t1.051052\\t0.000264...                     \n",
              "8634  56304.11569744\\t0.28666967\\t1.050454\\t0.000264...                     \n",
              "8635  56304.13613036\\t0.29561785\\t1.050061\\t0.000264...                     \n",
              "\n",
              "[8636 rows x 1 columns]"
            ]
          },
          "metadata": {
            "tags": []
          },
          "execution_count": 6
        }
      ]
    },
    {
      "cell_type": "code",
      "metadata": {
        "id": "pSa7YuQTE5iw",
        "outputId": "845edcd1-92e5-4739-c401-bdda98fb9a22",
        "colab": {
          "base_uri": "https://localhost:8080/",
          "height": 422
        }
      },
      "source": [
        "# that looks better but we still only have one column \n",
        "# - let's use input arguments to fix the formatting\n",
        "\n",
        "#notice I'm rewriting the variable too\n",
        "data_1 = pd.read_csv('/content/gdrive/My Drive/EsacapeEarth-test/2161623_lc.csv',header=0,delimiter ='\t')\n",
        "data_1"
      ],
      "execution_count": null,
      "outputs": [
        {
          "output_type": "execute_result",
          "data": {
            "text/html": [
              "<div>\n",
              "<style scoped>\n",
              "    .dataframe tbody tr th:only-of-type {\n",
              "        vertical-align: middle;\n",
              "    }\n",
              "\n",
              "    .dataframe tbody tr th {\n",
              "        vertical-align: top;\n",
              "    }\n",
              "\n",
              "    .dataframe thead th {\n",
              "        text-align: right;\n",
              "    }\n",
              "</style>\n",
              "<table border=\"1\" class=\"dataframe\">\n",
              "  <thead>\n",
              "    <tr style=\"text-align: right;\">\n",
              "      <th></th>\n",
              "      <th># bjd</th>\n",
              "      <th>phase</th>\n",
              "      <th>raw_flux</th>\n",
              "      <th>raw_err</th>\n",
              "      <th>corr_flux</th>\n",
              "      <th>corr_err</th>\n",
              "      <th>dtr_flux</th>\n",
              "      <th>dtr_err</th>\n",
              "    </tr>\n",
              "  </thead>\n",
              "  <tbody>\n",
              "    <tr>\n",
              "      <th>0</th>\n",
              "      <td>56107.160696</td>\n",
              "      <td>0.034160</td>\n",
              "      <td>0.593396</td>\n",
              "      <td>0.000242</td>\n",
              "      <td>0.741012</td>\n",
              "      <td>0.000343</td>\n",
              "      <td>0.581487</td>\n",
              "      <td>0.000237</td>\n",
              "    </tr>\n",
              "    <tr>\n",
              "      <th>1</th>\n",
              "      <td>56107.181130</td>\n",
              "      <td>0.043109</td>\n",
              "      <td>0.745326</td>\n",
              "      <td>0.000245</td>\n",
              "      <td>0.956920</td>\n",
              "      <td>0.000347</td>\n",
              "      <td>0.730368</td>\n",
              "      <td>0.000240</td>\n",
              "    </tr>\n",
              "    <tr>\n",
              "      <th>2</th>\n",
              "      <td>56107.201565</td>\n",
              "      <td>0.052058</td>\n",
              "      <td>0.871438</td>\n",
              "      <td>0.000247</td>\n",
              "      <td>1.135839</td>\n",
              "      <td>0.000350</td>\n",
              "      <td>0.853949</td>\n",
              "      <td>0.000242</td>\n",
              "    </tr>\n",
              "    <tr>\n",
              "      <th>3</th>\n",
              "      <td>56107.221999</td>\n",
              "      <td>0.061006</td>\n",
              "      <td>0.960180</td>\n",
              "      <td>0.000249</td>\n",
              "      <td>1.261791</td>\n",
              "      <td>0.000353</td>\n",
              "      <td>0.940910</td>\n",
              "      <td>0.000244</td>\n",
              "    </tr>\n",
              "    <tr>\n",
              "      <th>4</th>\n",
              "      <td>56107.242433</td>\n",
              "      <td>0.069955</td>\n",
              "      <td>0.994236</td>\n",
              "      <td>0.000252</td>\n",
              "      <td>1.309991</td>\n",
              "      <td>0.000357</td>\n",
              "      <td>0.974283</td>\n",
              "      <td>0.000247</td>\n",
              "    </tr>\n",
              "    <tr>\n",
              "      <th>...</th>\n",
              "      <td>...</td>\n",
              "      <td>...</td>\n",
              "      <td>...</td>\n",
              "      <td>...</td>\n",
              "      <td>...</td>\n",
              "      <td>...</td>\n",
              "      <td>...</td>\n",
              "      <td>...</td>\n",
              "    </tr>\n",
              "    <tr>\n",
              "      <th>8631</th>\n",
              "      <td>56304.054399</td>\n",
              "      <td>0.259825</td>\n",
              "      <td>1.050795</td>\n",
              "      <td>0.000264</td>\n",
              "      <td>1.196939</td>\n",
              "      <td>0.000332</td>\n",
              "      <td>1.033424</td>\n",
              "      <td>0.000259</td>\n",
              "    </tr>\n",
              "    <tr>\n",
              "      <th>8632</th>\n",
              "      <td>56304.074832</td>\n",
              "      <td>0.268773</td>\n",
              "      <td>1.050991</td>\n",
              "      <td>0.000264</td>\n",
              "      <td>1.196989</td>\n",
              "      <td>0.000332</td>\n",
              "      <td>1.033611</td>\n",
              "      <td>0.000259</td>\n",
              "    </tr>\n",
              "    <tr>\n",
              "      <th>8633</th>\n",
              "      <td>56304.095265</td>\n",
              "      <td>0.277721</td>\n",
              "      <td>1.051052</td>\n",
              "      <td>0.000264</td>\n",
              "      <td>1.197222</td>\n",
              "      <td>0.000333</td>\n",
              "      <td>1.033666</td>\n",
              "      <td>0.000259</td>\n",
              "    </tr>\n",
              "    <tr>\n",
              "      <th>8634</th>\n",
              "      <td>56304.115697</td>\n",
              "      <td>0.286670</td>\n",
              "      <td>1.050454</td>\n",
              "      <td>0.000264</td>\n",
              "      <td>1.196450</td>\n",
              "      <td>0.000333</td>\n",
              "      <td>1.033072</td>\n",
              "      <td>0.000259</td>\n",
              "    </tr>\n",
              "    <tr>\n",
              "      <th>8635</th>\n",
              "      <td>56304.136130</td>\n",
              "      <td>0.295618</td>\n",
              "      <td>1.050061</td>\n",
              "      <td>0.000264</td>\n",
              "      <td>1.195763</td>\n",
              "      <td>0.000333</td>\n",
              "      <td>1.032680</td>\n",
              "      <td>0.000259</td>\n",
              "    </tr>\n",
              "  </tbody>\n",
              "</table>\n",
              "<p>8636 rows × 8 columns</p>\n",
              "</div>"
            ],
            "text/plain": [
              "             # bjd     phase  raw_flux  ...  corr_err  dtr_flux   dtr_err\n",
              "0     56107.160696  0.034160  0.593396  ...  0.000343  0.581487  0.000237\n",
              "1     56107.181130  0.043109  0.745326  ...  0.000347  0.730368  0.000240\n",
              "2     56107.201565  0.052058  0.871438  ...  0.000350  0.853949  0.000242\n",
              "3     56107.221999  0.061006  0.960180  ...  0.000353  0.940910  0.000244\n",
              "4     56107.242433  0.069955  0.994236  ...  0.000357  0.974283  0.000247\n",
              "...            ...       ...       ...  ...       ...       ...       ...\n",
              "8631  56304.054399  0.259825  1.050795  ...  0.000332  1.033424  0.000259\n",
              "8632  56304.074832  0.268773  1.050991  ...  0.000332  1.033611  0.000259\n",
              "8633  56304.095265  0.277721  1.051052  ...  0.000333  1.033666  0.000259\n",
              "8634  56304.115697  0.286670  1.050454  ...  0.000333  1.033072  0.000259\n",
              "8635  56304.136130  0.295618  1.050061  ...  0.000333  1.032680  0.000259\n",
              "\n",
              "[8636 rows x 8 columns]"
            ]
          },
          "metadata": {
            "tags": []
          },
          "execution_count": 7
        }
      ]
    },
    {
      "cell_type": "code",
      "metadata": {
        "id": "DEwsr7DaFf85",
        "outputId": "71056791-5b54-48b4-9701-743cc6860e07",
        "colab": {
          "base_uri": "https://localhost:8080/",
          "height": 35
        }
      },
      "source": [
        "# Here's another trick \n",
        "# our path to the shared folder is long and we may not want to type it everytime\n",
        "# we can save the path and insert it as shown below\n",
        "\n",
        "mypath = '/content/gdrive/My Drive/EsacapeEarth-test'\n",
        "\n",
        "#let's open yet another data file\n",
        "data_3 = np.load('{}/bls_powers.npy'.format(mypath))\n",
        "print('Data-3 Example:',data_3)"
      ],
      "execution_count": null,
      "outputs": [
        {
          "output_type": "stream",
          "text": [
            "Data-3 Example: [34615   294    12 ... 43420 32493  4189]\n"
          ],
          "name": "stdout"
        }
      ]
    },
    {
      "cell_type": "markdown",
      "metadata": {
        "id": "I67_AQlkM2Dq"
      },
      "source": [
        "# __How to Save NEW data to our shared folder__\n",
        "#### _Important Note_: when saving new data always name the file with a clear name followed by '-YourName'. This is so I can resave the folder within my google drive that has unlimited storage, whereas yours will not.\n",
        "#### FOR EXAMPLE: Using data_3's filename, you would save it as \"bls_powers-Danielle.npy\".  I will then rename & resaved this file as \"bls_powers.npy\" "
      ]
    },
    {
      "cell_type": "code",
      "metadata": {
        "id": "rKHDBQqMLP2E"
      },
      "source": [
        ""
      ],
      "execution_count": null,
      "outputs": []
    }
  ]
}