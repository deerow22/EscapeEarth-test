{
  "nbformat": 4,
  "nbformat_minor": 0,
  "metadata": {
    "colab": {
      "name": "DownloadData.ipynb",
      "provenance": [],
      "authorship_tag": "ABX9TyMankJFjJr3laNldX7i+XCP",
      "include_colab_link": true
    },
    "kernelspec": {
      "name": "python3",
      "display_name": "Python 3"
    }
  },
  "cells": [
    {
      "cell_type": "markdown",
      "metadata": {
        "id": "view-in-github",
        "colab_type": "text"
      },
      "source": [
        "<a href=\"https://colab.research.google.com/github/deerow22/EscapeEarth-test/blob/main/Interns/Danielle/DownloadData.ipynb\" target=\"_parent\"><img src=\"https://colab.research.google.com/assets/colab-badge.svg\" alt=\"Open In Colab\"/></a>"
      ]
    },
    {
      "cell_type": "code",
      "metadata": {
        "id": "vL5tAHjyoASq",
        "outputId": "2e91d127-9b93-4ee3-b62a-ab8fe7b07eb3",
        "colab": {
          "base_uri": "https://localhost:8080/",
          "height": 35
        }
      },
      "source": [
        "from google.colab import drive\n",
        "\n",
        "drive.mount('/content/gdrive')\n"
      ],
      "execution_count": null,
      "outputs": [
        {
          "output_type": "stream",
          "text": [
            "Mounted at /content/gdrive\n"
          ],
          "name": "stdout"
        }
      ]
    },
    {
      "cell_type": "code",
      "metadata": {
        "id": "uChNPWN-oiPI",
        "outputId": "7457b98d-fbce-4107-ec51-68d24e8107ec",
        "colab": {
          "base_uri": "https://localhost:8080/",
          "height": 1000
        }
      },
      "source": [
        "import pandas as pd\n",
        "!pip install lightkurve\n",
        "import lightkurve as lk"
      ],
      "execution_count": null,
      "outputs": [
        {
          "output_type": "stream",
          "text": [
            "Collecting lightkurve\n",
            "\u001b[?25l  Downloading https://files.pythonhosted.org/packages/6b/cb/a2917205537f6bad53b109365e09abe946afbf5d8a4e1f46c3f75abcb398/lightkurve-1.11.3-py3-none-any.whl (515kB)\n",
            "\r\u001b[K     |▋                               | 10kB 13.9MB/s eta 0:00:01\r\u001b[K     |█▎                              | 20kB 1.7MB/s eta 0:00:01\r\u001b[K     |██                              | 30kB 2.2MB/s eta 0:00:01\r\u001b[K     |██▌                             | 40kB 2.5MB/s eta 0:00:01\r\u001b[K     |███▏                            | 51kB 1.9MB/s eta 0:00:01\r\u001b[K     |███▉                            | 61kB 2.2MB/s eta 0:00:01\r\u001b[K     |████▌                           | 71kB 2.5MB/s eta 0:00:01\r\u001b[K     |█████                           | 81kB 2.6MB/s eta 0:00:01\r\u001b[K     |█████▊                          | 92kB 2.8MB/s eta 0:00:01\r\u001b[K     |██████▍                         | 102kB 2.7MB/s eta 0:00:01\r\u001b[K     |███████                         | 112kB 2.7MB/s eta 0:00:01\r\u001b[K     |███████▋                        | 122kB 2.7MB/s eta 0:00:01\r\u001b[K     |████████▎                       | 133kB 2.7MB/s eta 0:00:01\r\u001b[K     |█████████                       | 143kB 2.7MB/s eta 0:00:01\r\u001b[K     |█████████▌                      | 153kB 2.7MB/s eta 0:00:01\r\u001b[K     |██████████▏                     | 163kB 2.7MB/s eta 0:00:01\r\u001b[K     |██████████▉                     | 174kB 2.7MB/s eta 0:00:01\r\u001b[K     |███████████▌                    | 184kB 2.7MB/s eta 0:00:01\r\u001b[K     |████████████                    | 194kB 2.7MB/s eta 0:00:01\r\u001b[K     |████████████▊                   | 204kB 2.7MB/s eta 0:00:01\r\u001b[K     |█████████████▍                  | 215kB 2.7MB/s eta 0:00:01\r\u001b[K     |██████████████                  | 225kB 2.7MB/s eta 0:00:01\r\u001b[K     |██████████████▋                 | 235kB 2.7MB/s eta 0:00:01\r\u001b[K     |███████████████▎                | 245kB 2.7MB/s eta 0:00:01\r\u001b[K     |████████████████                | 256kB 2.7MB/s eta 0:00:01\r\u001b[K     |████████████████▌               | 266kB 2.7MB/s eta 0:00:01\r\u001b[K     |█████████████████▏              | 276kB 2.7MB/s eta 0:00:01\r\u001b[K     |█████████████████▉              | 286kB 2.7MB/s eta 0:00:01\r\u001b[K     |██████████████████▌             | 296kB 2.7MB/s eta 0:00:01\r\u001b[K     |███████████████████             | 307kB 2.7MB/s eta 0:00:01\r\u001b[K     |███████████████████▊            | 317kB 2.7MB/s eta 0:00:01\r\u001b[K     |████████████████████▍           | 327kB 2.7MB/s eta 0:00:01\r\u001b[K     |█████████████████████           | 337kB 2.7MB/s eta 0:00:01\r\u001b[K     |█████████████████████▋          | 348kB 2.7MB/s eta 0:00:01\r\u001b[K     |██████████████████████▎         | 358kB 2.7MB/s eta 0:00:01\r\u001b[K     |███████████████████████         | 368kB 2.7MB/s eta 0:00:01\r\u001b[K     |███████████████████████▌        | 378kB 2.7MB/s eta 0:00:01\r\u001b[K     |████████████████████████▏       | 389kB 2.7MB/s eta 0:00:01\r\u001b[K     |████████████████████████▉       | 399kB 2.7MB/s eta 0:00:01\r\u001b[K     |█████████████████████████▌      | 409kB 2.7MB/s eta 0:00:01\r\u001b[K     |██████████████████████████      | 419kB 2.7MB/s eta 0:00:01\r\u001b[K     |██████████████████████████▊     | 430kB 2.7MB/s eta 0:00:01\r\u001b[K     |███████████████████████████▍    | 440kB 2.7MB/s eta 0:00:01\r\u001b[K     |████████████████████████████    | 450kB 2.7MB/s eta 0:00:01\r\u001b[K     |████████████████████████████▋   | 460kB 2.7MB/s eta 0:00:01\r\u001b[K     |█████████████████████████████▎  | 471kB 2.7MB/s eta 0:00:01\r\u001b[K     |██████████████████████████████  | 481kB 2.7MB/s eta 0:00:01\r\u001b[K     |██████████████████████████████▌ | 491kB 2.7MB/s eta 0:00:01\r\u001b[K     |███████████████████████████████▏| 501kB 2.7MB/s eta 0:00:01\r\u001b[K     |███████████████████████████████▉| 512kB 2.7MB/s eta 0:00:01\r\u001b[K     |████████████████████████████████| 522kB 2.7MB/s \n",
            "\u001b[?25hRequirement already satisfied: astropy>=1.3 in /usr/local/lib/python3.6/dist-packages (from lightkurve) (4.1)\n",
            "Collecting fbpca>=1.0\n",
            "  Downloading https://files.pythonhosted.org/packages/a7/a5/2085d0645a4bb4f0b606251b0b7466c61326e4a471d445c1c3761a2d07bc/fbpca-1.0.tar.gz\n",
            "Requirement already satisfied: bs4 in /usr/local/lib/python3.6/dist-packages (from lightkurve) (0.0.1)\n",
            "Requirement already satisfied: numpy>=1.11 in /usr/local/lib/python3.6/dist-packages (from lightkurve) (1.18.5)\n",
            "Collecting astroquery>=0.3.9\n",
            "\u001b[?25l  Downloading https://files.pythonhosted.org/packages/1b/f8/4690523783691ed816b3469c3ec611af3798594d37ade510dd918d59f57e/astroquery-0.4.1.tar.gz (6.5MB)\n",
            "\u001b[K     |████████████████████████████████| 6.5MB 11.4MB/s \n",
            "\u001b[?25hCollecting scipy!=1.4.0,!=1.4.1,>=0.19.0\n",
            "\u001b[?25l  Downloading https://files.pythonhosted.org/packages/8a/14/d0475ceeaa047f3eae2dc7597c3d40228e1d5beee42c1730f3c96ffb5526/scipy-1.5.3-cp36-cp36m-manylinux1_x86_64.whl (25.9MB)\n",
            "\u001b[K     |████████████████████████████████| 25.9MB 1.5MB/s \n",
            "\u001b[?25hRequirement already satisfied: tqdm>=4.25.0 in /usr/local/lib/python3.6/dist-packages (from lightkurve) (4.41.1)\n",
            "Requirement already satisfied: pandas in /usr/local/lib/python3.6/dist-packages (from lightkurve) (1.1.3)\n",
            "Collecting uncertainties\n",
            "\u001b[?25l  Downloading https://files.pythonhosted.org/packages/b0/e0/fc200da8190729dcb685ae4877ed6936d31d64aeccb8cc355d9ec982681d/uncertainties-3.1.4-py2.py3-none-any.whl (246kB)\n",
            "\u001b[K     |████████████████████████████████| 256kB 46.6MB/s \n",
            "\u001b[?25hRequirement already satisfied: matplotlib>=1.5.3 in /usr/local/lib/python3.6/dist-packages (from lightkurve) (3.2.2)\n",
            "Requirement already satisfied: patsy>=0.5.1 in /usr/local/lib/python3.6/dist-packages (from lightkurve) (0.5.1)\n",
            "Requirement already satisfied: requests in /usr/local/lib/python3.6/dist-packages (from lightkurve) (2.23.0)\n",
            "Collecting oktopus\n",
            "  Downloading https://files.pythonhosted.org/packages/2d/6e/7b7e11442ff70286c22614d200f6145f83528dc6c99fec0982665e25c8d3/oktopus-0.1.2.tar.gz\n",
            "Requirement already satisfied: beautifulsoup4 in /usr/local/lib/python3.6/dist-packages (from bs4->lightkurve) (4.6.3)\n",
            "Collecting keyring>=4.0\n",
            "  Downloading https://files.pythonhosted.org/packages/e4/ed/7be20815f248b0d6aae406783c2bee392640924623c4e17b50ca90c7f74d/keyring-21.4.0-py3-none-any.whl\n",
            "Requirement already satisfied: html5lib>=0.999 in /usr/local/lib/python3.6/dist-packages (from astroquery>=0.3.9->lightkurve) (1.0.1)\n",
            "Requirement already satisfied: six in /usr/local/lib/python3.6/dist-packages (from astroquery>=0.3.9->lightkurve) (1.15.0)\n",
            "Requirement already satisfied: python-dateutil>=2.7.3 in /usr/local/lib/python3.6/dist-packages (from pandas->lightkurve) (2.8.1)\n",
            "Requirement already satisfied: pytz>=2017.2 in /usr/local/lib/python3.6/dist-packages (from pandas->lightkurve) (2018.9)\n",
            "Requirement already satisfied: future in /usr/local/lib/python3.6/dist-packages (from uncertainties->lightkurve) (0.16.0)\n",
            "Requirement already satisfied: pyparsing!=2.0.4,!=2.1.2,!=2.1.6,>=2.0.1 in /usr/local/lib/python3.6/dist-packages (from matplotlib>=1.5.3->lightkurve) (2.4.7)\n",
            "Requirement already satisfied: kiwisolver>=1.0.1 in /usr/local/lib/python3.6/dist-packages (from matplotlib>=1.5.3->lightkurve) (1.2.0)\n",
            "Requirement already satisfied: cycler>=0.10 in /usr/local/lib/python3.6/dist-packages (from matplotlib>=1.5.3->lightkurve) (0.10.0)\n",
            "Requirement already satisfied: chardet<4,>=3.0.2 in /usr/local/lib/python3.6/dist-packages (from requests->lightkurve) (3.0.4)\n",
            "Requirement already satisfied: certifi>=2017.4.17 in /usr/local/lib/python3.6/dist-packages (from requests->lightkurve) (2020.6.20)\n",
            "Requirement already satisfied: idna<3,>=2.5 in /usr/local/lib/python3.6/dist-packages (from requests->lightkurve) (2.10)\n",
            "Requirement already satisfied: urllib3!=1.25.0,!=1.25.1,<1.26,>=1.21.1 in /usr/local/lib/python3.6/dist-packages (from requests->lightkurve) (1.24.3)\n",
            "Requirement already satisfied: autograd in /usr/local/lib/python3.6/dist-packages (from oktopus->lightkurve) (1.3)\n",
            "Collecting SecretStorage>=3; sys_platform == \"linux\"\n",
            "  Downloading https://files.pythonhosted.org/packages/c3/50/8a02cad020e949e6d7105f5f4530d41e3febcaa5b73f8f2148aacb3aeba5/SecretStorage-3.1.2-py3-none-any.whl\n",
            "Collecting jeepney>=0.4.2; sys_platform == \"linux\"\n",
            "  Downloading https://files.pythonhosted.org/packages/79/31/2e8d42727595faf224c6dbb748c32b192e212f25495fe841fb7ce8e168b8/jeepney-0.4.3-py3-none-any.whl\n",
            "Requirement already satisfied: importlib-metadata; python_version < \"3.8\" in /usr/local/lib/python3.6/dist-packages (from keyring>=4.0->astroquery>=0.3.9->lightkurve) (2.0.0)\n",
            "Requirement already satisfied: webencodings in /usr/local/lib/python3.6/dist-packages (from html5lib>=0.999->astroquery>=0.3.9->lightkurve) (0.5.1)\n",
            "Collecting cryptography\n",
            "\u001b[?25l  Downloading https://files.pythonhosted.org/packages/4a/a8/904c6f56c6018fc0b860510a55ea6123d561d02157f9e0855301afa27749/cryptography-3.2-cp35-abi3-manylinux2010_x86_64.whl (2.6MB)\n",
            "\u001b[K     |████████████████████████████████| 2.7MB 38.7MB/s \n",
            "\u001b[?25hRequirement already satisfied: zipp>=0.5 in /usr/local/lib/python3.6/dist-packages (from importlib-metadata; python_version < \"3.8\"->keyring>=4.0->astroquery>=0.3.9->lightkurve) (3.3.1)\n",
            "Requirement already satisfied: cffi!=1.11.3,>=1.8 in /usr/local/lib/python3.6/dist-packages (from cryptography->SecretStorage>=3; sys_platform == \"linux\"->keyring>=4.0->astroquery>=0.3.9->lightkurve) (1.14.3)\n",
            "Requirement already satisfied: pycparser in /usr/local/lib/python3.6/dist-packages (from cffi!=1.11.3,>=1.8->cryptography->SecretStorage>=3; sys_platform == \"linux\"->keyring>=4.0->astroquery>=0.3.9->lightkurve) (2.20)\n",
            "Building wheels for collected packages: fbpca, astroquery, oktopus\n",
            "  Building wheel for fbpca (setup.py) ... \u001b[?25l\u001b[?25hdone\n",
            "  Created wheel for fbpca: filename=fbpca-1.0-cp36-none-any.whl size=11376 sha256=eadacaec96a9caf578639465a8b821313896185923eae981d9fa2baaf692097d\n",
            "  Stored in directory: /root/.cache/pip/wheels/53/a2/dd/9b66cf53dbc58cec1e613d216689e5fa946d3e7805c30f60dc\n",
            "  Building wheel for astroquery (setup.py) ... \u001b[?25l\u001b[?25hdone\n",
            "  Created wheel for astroquery: filename=astroquery-0.4.1-cp36-none-any.whl size=3831873 sha256=4208ef334afdfbcd2ba95d27f22395479ddd001e06e32e1273ccadfebff6df97\n",
            "  Stored in directory: /root/.cache/pip/wheels/88/f8/b7/a254cd96e808f708bc0b7d755a8e095c56fbbe94099d7b464f\n",
            "  Building wheel for oktopus (setup.py) ... \u001b[?25l\u001b[?25hdone\n",
            "  Created wheel for oktopus: filename=oktopus-0.1.2-cp36-none-any.whl size=12781 sha256=a83e3d0453365d5ea1bff239a5ae105e1c17e7701749ab0d7e9a890fcebe6f09\n",
            "  Stored in directory: /root/.cache/pip/wheels/9b/90/81/098fc66ee56166d63c9a8fc0a9672ae7b3423396a588ec952a\n",
            "Successfully built fbpca astroquery oktopus\n",
            "\u001b[31mERROR: tensorflow 2.3.0 has requirement scipy==1.4.1, but you'll have scipy 1.5.3 which is incompatible.\u001b[0m\n",
            "\u001b[31mERROR: albumentations 0.1.12 has requirement imgaug<0.2.7,>=0.2.5, but you'll have imgaug 0.2.9 which is incompatible.\u001b[0m\n",
            "Installing collected packages: fbpca, jeepney, cryptography, SecretStorage, keyring, astroquery, scipy, uncertainties, oktopus, lightkurve\n",
            "  Found existing installation: scipy 1.4.1\n",
            "    Uninstalling scipy-1.4.1:\n",
            "      Successfully uninstalled scipy-1.4.1\n",
            "Successfully installed SecretStorage-3.1.2 astroquery-0.4.1 cryptography-3.2 fbpca-1.0 jeepney-0.4.3 keyring-21.4.0 lightkurve-1.11.3 oktopus-0.1.2 scipy-1.5.3 uncertainties-3.1.4\n"
          ],
          "name": "stdout"
        }
      ]
    },
    {
      "cell_type": "code",
      "metadata": {
        "id": "PWiAvOpkorWt",
        "outputId": "e580b983-b704-4b0d-8124-0b8b2e23e702",
        "colab": {
          "base_uri": "https://localhost:8080/",
          "height": 424
        }
      },
      "source": [
        "#open target list for Sector 14\n",
        "\n",
        "sector14_targets = pd.read_csv('/content/gdrive/My Drive/EscapeEarthData/all_targets_S014_v1.csv',skiprows=5)\n",
        "sector14_targets"
      ],
      "execution_count": null,
      "outputs": [
        {
          "output_type": "execute_result",
          "data": {
            "text/html": [
              "<div>\n",
              "<style scoped>\n",
              "    .dataframe tbody tr th:only-of-type {\n",
              "        vertical-align: middle;\n",
              "    }\n",
              "\n",
              "    .dataframe tbody tr th {\n",
              "        vertical-align: top;\n",
              "    }\n",
              "\n",
              "    .dataframe thead th {\n",
              "        text-align: right;\n",
              "    }\n",
              "</style>\n",
              "<table border=\"1\" class=\"dataframe\">\n",
              "  <thead>\n",
              "    <tr style=\"text-align: right;\">\n",
              "      <th></th>\n",
              "      <th>TICID</th>\n",
              "      <th>Camera</th>\n",
              "      <th>CCD</th>\n",
              "      <th>Tmag</th>\n",
              "      <th>RA</th>\n",
              "      <th>Dec</th>\n",
              "    </tr>\n",
              "  </thead>\n",
              "  <tbody>\n",
              "    <tr>\n",
              "      <th>0</th>\n",
              "      <td>7582594</td>\n",
              "      <td>2</td>\n",
              "      <td>3</td>\n",
              "      <td>8.57</td>\n",
              "      <td>272.3966</td>\n",
              "      <td>45.8308</td>\n",
              "    </tr>\n",
              "    <tr>\n",
              "      <th>1</th>\n",
              "      <td>7582633</td>\n",
              "      <td>2</td>\n",
              "      <td>3</td>\n",
              "      <td>9.92</td>\n",
              "      <td>272.3288</td>\n",
              "      <td>45.9244</td>\n",
              "    </tr>\n",
              "    <tr>\n",
              "      <th>2</th>\n",
              "      <td>7582634</td>\n",
              "      <td>2</td>\n",
              "      <td>3</td>\n",
              "      <td>10.48</td>\n",
              "      <td>272.3307</td>\n",
              "      <td>45.9255</td>\n",
              "    </tr>\n",
              "    <tr>\n",
              "      <th>3</th>\n",
              "      <td>7583285</td>\n",
              "      <td>2</td>\n",
              "      <td>2</td>\n",
              "      <td>11.30</td>\n",
              "      <td>272.3711</td>\n",
              "      <td>47.2259</td>\n",
              "    </tr>\n",
              "    <tr>\n",
              "      <th>4</th>\n",
              "      <td>7584049</td>\n",
              "      <td>2</td>\n",
              "      <td>2</td>\n",
              "      <td>8.50</td>\n",
              "      <td>272.5282</td>\n",
              "      <td>47.0887</td>\n",
              "    </tr>\n",
              "    <tr>\n",
              "      <th>...</th>\n",
              "      <td>...</td>\n",
              "      <td>...</td>\n",
              "      <td>...</td>\n",
              "      <td>...</td>\n",
              "      <td>...</td>\n",
              "      <td>...</td>\n",
              "    </tr>\n",
              "    <tr>\n",
              "      <th>19995</th>\n",
              "      <td>1980752885</td>\n",
              "      <td>2</td>\n",
              "      <td>1</td>\n",
              "      <td>16.91</td>\n",
              "      <td>303.1632</td>\n",
              "      <td>60.2862</td>\n",
              "    </tr>\n",
              "    <tr>\n",
              "      <th>19996</th>\n",
              "      <td>1980968952</td>\n",
              "      <td>2</td>\n",
              "      <td>1</td>\n",
              "      <td>8.65</td>\n",
              "      <td>301.3995</td>\n",
              "      <td>63.7061</td>\n",
              "    </tr>\n",
              "    <tr>\n",
              "      <th>19997</th>\n",
              "      <td>1980968953</td>\n",
              "      <td>2</td>\n",
              "      <td>1</td>\n",
              "      <td>8.76</td>\n",
              "      <td>301.3993</td>\n",
              "      <td>63.7056</td>\n",
              "    </tr>\n",
              "    <tr>\n",
              "      <th>19998</th>\n",
              "      <td>1981207128</td>\n",
              "      <td>2</td>\n",
              "      <td>1</td>\n",
              "      <td>7.88</td>\n",
              "      <td>300.4913</td>\n",
              "      <td>65.8903</td>\n",
              "    </tr>\n",
              "    <tr>\n",
              "      <th>19999</th>\n",
              "      <td>1981303680</td>\n",
              "      <td>3</td>\n",
              "      <td>2</td>\n",
              "      <td>8.20</td>\n",
              "      <td>300.3917</td>\n",
              "      <td>70.4546</td>\n",
              "    </tr>\n",
              "  </tbody>\n",
              "</table>\n",
              "<p>20000 rows × 6 columns</p>\n",
              "</div>"
            ],
            "text/plain": [
              "            TICID   Camera   CCD   Tmag        RA      Dec\n",
              "0         7582594        2     3   8.57  272.3966  45.8308\n",
              "1         7582633        2     3   9.92  272.3288  45.9244\n",
              "2         7582634        2     3  10.48  272.3307  45.9255\n",
              "3         7583285        2     2  11.30  272.3711  47.2259\n",
              "4         7584049        2     2   8.50  272.5282  47.0887\n",
              "...           ...      ...   ...    ...       ...      ...\n",
              "19995  1980752885        2     1  16.91  303.1632  60.2862\n",
              "19996  1980968952        2     1   8.65  301.3995  63.7061\n",
              "19997  1980968953        2     1   8.76  301.3993  63.7056\n",
              "19998  1981207128        2     1   7.88  300.4913  65.8903\n",
              "19999  1981303680        3     2   8.20  300.3917  70.4546\n",
              "\n",
              "[20000 rows x 6 columns]"
            ]
          },
          "metadata": {
            "tags": []
          },
          "execution_count": 7
        }
      ]
    },
    {
      "cell_type": "code",
      "metadata": {
        "id": "-PeaNWoFpAZM",
        "outputId": "f1a071c3-6382-46d5-fcd1-8493d2c79bdf",
        "colab": {
          "base_uri": "https://localhost:8080/",
          "height": 35
        }
      },
      "source": [
        "# shorten the target list for testing\n",
        "\n",
        "shortlist_targets = sector14_targets['TICID'].to_numpy()[0:5]\n",
        "shortlist_targets"
      ],
      "execution_count": null,
      "outputs": [
        {
          "output_type": "execute_result",
          "data": {
            "text/plain": [
              "array([7582594, 7582633, 7582634, 7583285, 7584049])"
            ]
          },
          "metadata": {
            "tags": []
          },
          "execution_count": 14
        }
      ]
    },
    {
      "cell_type": "code",
      "metadata": {
        "id": "LV2t4vcBpgNu",
        "outputId": "a09b80c3-516c-4b35-fd47-2a5f7ba9e02d",
        "colab": {
          "base_uri": "https://localhost:8080/",
          "height": 104
        }
      },
      "source": [
        "# create for loop to open each target in short list\n",
        "\n",
        "for id in shortlist_targets:\n",
        "  #format target name\n",
        "  ticid = 'TIC {}'.format(id)\n",
        "  #find file\n",
        "  lc_search = lk.search_lightcurvefile(ticid, sector=14)\n",
        "  #download data\n",
        "  lc_file = lc_search.download()\n",
        "  \n",
        "  # #save data\n",
        "  # filename = 'tic{}_sec{}'.format(id,14)\n",
        "  lc = lc_file.PDCSAP_FLUX\n",
        "  print(type(lc))\n",
        "  # lc.to_fits(path='{}.fits'.format(filename), overwrite=True)\n",
        "  #print(lc)"
      ],
      "execution_count": null,
      "outputs": [
        {
          "output_type": "stream",
          "text": [
            "<class 'lightkurve.lightcurve.TessLightCurve'>\n",
            "<class 'lightkurve.lightcurve.TessLightCurve'>\n",
            "<class 'lightkurve.lightcurve.TessLightCurve'>\n",
            "<class 'lightkurve.lightcurve.TessLightCurve'>\n",
            "<class 'lightkurve.lightcurve.TessLightCurve'>\n"
          ],
          "name": "stdout"
        }
      ]
    },
    {
      "cell_type": "code",
      "metadata": {
        "id": "MbQKJemhqOj3"
      },
      "source": [
        ""
      ],
      "execution_count": null,
      "outputs": []
    }
  ]
}